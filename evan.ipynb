{
 "cells": [
  {
   "cell_type": "code",
   "execution_count": 1,
   "metadata": {},
   "outputs": [],
   "source": [
    "import pandas as pd\n",
    "import numpy as np\n",
    "import matplotlib.pyplot as plt\n",
    "import statsmodels.api as sm\n",
    "from fredapi import Fred\n",
    "from statsmodels.tsa.arima.model import ARIMA\n",
    "import seaborn as sns\n",
    "from sklearn.metrics import mean_squared_error\n",
    "\n",
    "fred = Fred(api_key=\"388e4633f23c88b89679b89794f572ed\")\n",
    "from tqdm import tqdm\n",
    "\n",
    "import warnings\n",
    "\n",
    "warnings.filterwarnings(\"ignore\")"
   ]
  },
  {
   "cell_type": "code",
   "execution_count": 52,
   "metadata": {},
   "outputs": [],
   "source": [
    "# loans = fred.get_series(\"CCLACBW027SBOG\").rename(\"loans\")\n",
    "loans = pd.read_csv('consumerloans_clean.csv', index_col=0, parse_dates=True).rename(columns={\"consumerloans\": \"loans\"})\n",
    "claims = fred.get_series(\"ICSA\").rename('claims')  # Weekly\n",
    "eff_funds = fred.get_series(\"FF\").rename('eff_funds')  # Weekly\n",
    "deposits = fred.get_series(\"DPSACBW027SBOG\").rename('deposits')  # Weekly\n",
    "\n",
    "arimax_df = pd.DataFrame(loans)\n",
    "for s in [eff_funds, deposits]:\n",
    "    arimax_df = pd.merge_asof(arimax_df, s, left_index=True, right_index=True)\n",
    "arimax_df[['eff_funds_l1', 'deposits_l1']] = arimax_df[['eff_funds', 'deposits']].shift(1).bfill()\n",
    "arimax_df['deposits_l1_log_ret'] = np.log(arimax_df['deposits_l1']).diff().bfill()"
   ]
  },
  {
   "cell_type": "code",
   "execution_count": 53,
   "metadata": {},
   "outputs": [
    {
     "data": {
      "text/html": [
       "<div>\n",
       "<style scoped>\n",
       "    .dataframe tbody tr th:only-of-type {\n",
       "        vertical-align: middle;\n",
       "    }\n",
       "\n",
       "    .dataframe tbody tr th {\n",
       "        vertical-align: top;\n",
       "    }\n",
       "\n",
       "    .dataframe thead th {\n",
       "        text-align: right;\n",
       "    }\n",
       "</style>\n",
       "<table border=\"1\" class=\"dataframe\">\n",
       "  <thead>\n",
       "    <tr style=\"text-align: right;\">\n",
       "      <th></th>\n",
       "      <th>loans</th>\n",
       "      <th>eff_funds</th>\n",
       "      <th>deposits</th>\n",
       "      <th>eff_funds_l1</th>\n",
       "      <th>deposits_l1</th>\n",
       "      <th>deposits_l1_log_ret</th>\n",
       "    </tr>\n",
       "    <tr>\n",
       "      <th>date</th>\n",
       "      <th></th>\n",
       "      <th></th>\n",
       "      <th></th>\n",
       "      <th></th>\n",
       "      <th></th>\n",
       "      <th></th>\n",
       "    </tr>\n",
       "  </thead>\n",
       "  <tbody>\n",
       "    <tr>\n",
       "      <th>2000-06-28</th>\n",
       "      <td>551.643510</td>\n",
       "      <td>6.53</td>\n",
       "      <td>3576.1524</td>\n",
       "      <td>6.53</td>\n",
       "      <td>3576.1524</td>\n",
       "      <td>0.000000</td>\n",
       "    </tr>\n",
       "    <tr>\n",
       "      <th>2000-07-05</th>\n",
       "      <td>554.377885</td>\n",
       "      <td>6.85</td>\n",
       "      <td>3625.4808</td>\n",
       "      <td>6.53</td>\n",
       "      <td>3576.1524</td>\n",
       "      <td>0.000000</td>\n",
       "    </tr>\n",
       "    <tr>\n",
       "      <th>2000-07-12</th>\n",
       "      <td>553.241385</td>\n",
       "      <td>6.44</td>\n",
       "      <td>3613.4882</td>\n",
       "      <td>6.85</td>\n",
       "      <td>3625.4808</td>\n",
       "      <td>0.013699</td>\n",
       "    </tr>\n",
       "    <tr>\n",
       "      <th>2000-07-19</th>\n",
       "      <td>554.903785</td>\n",
       "      <td>6.50</td>\n",
       "      <td>3619.9306</td>\n",
       "      <td>6.44</td>\n",
       "      <td>3613.4882</td>\n",
       "      <td>-0.003313</td>\n",
       "    </tr>\n",
       "    <tr>\n",
       "      <th>2000-07-26</th>\n",
       "      <td>554.138385</td>\n",
       "      <td>6.50</td>\n",
       "      <td>3639.3521</td>\n",
       "      <td>6.50</td>\n",
       "      <td>3619.9306</td>\n",
       "      <td>0.001781</td>\n",
       "    </tr>\n",
       "    <tr>\n",
       "      <th>...</th>\n",
       "      <td>...</td>\n",
       "      <td>...</td>\n",
       "      <td>...</td>\n",
       "      <td>...</td>\n",
       "      <td>...</td>\n",
       "      <td>...</td>\n",
       "    </tr>\n",
       "    <tr>\n",
       "      <th>2024-03-13</th>\n",
       "      <td>1053.400000</td>\n",
       "      <td>5.33</td>\n",
       "      <td>17535.5968</td>\n",
       "      <td>5.33</td>\n",
       "      <td>17494.1022</td>\n",
       "      <td>0.002918</td>\n",
       "    </tr>\n",
       "    <tr>\n",
       "      <th>2024-03-20</th>\n",
       "      <td>1054.565700</td>\n",
       "      <td>5.33</td>\n",
       "      <td>17568.9661</td>\n",
       "      <td>5.33</td>\n",
       "      <td>17535.5968</td>\n",
       "      <td>0.002369</td>\n",
       "    </tr>\n",
       "    <tr>\n",
       "      <th>2024-03-27</th>\n",
       "      <td>1053.803300</td>\n",
       "      <td>5.33</td>\n",
       "      <td>17645.4336</td>\n",
       "      <td>5.33</td>\n",
       "      <td>17568.9661</td>\n",
       "      <td>0.001901</td>\n",
       "    </tr>\n",
       "    <tr>\n",
       "      <th>2024-04-03</th>\n",
       "      <td>1054.370200</td>\n",
       "      <td>5.33</td>\n",
       "      <td>17580.9648</td>\n",
       "      <td>5.33</td>\n",
       "      <td>17645.4336</td>\n",
       "      <td>0.004343</td>\n",
       "    </tr>\n",
       "    <tr>\n",
       "      <th>2024-04-10</th>\n",
       "      <td>1052.607700</td>\n",
       "      <td>5.33</td>\n",
       "      <td>17578.6082</td>\n",
       "      <td>5.33</td>\n",
       "      <td>17580.9648</td>\n",
       "      <td>-0.003660</td>\n",
       "    </tr>\n",
       "  </tbody>\n",
       "</table>\n",
       "<p>1242 rows × 6 columns</p>\n",
       "</div>"
      ],
      "text/plain": [
       "                  loans  eff_funds    deposits  eff_funds_l1  deposits_l1  \\\n",
       "date                                                                        \n",
       "2000-06-28   551.643510       6.53   3576.1524          6.53    3576.1524   \n",
       "2000-07-05   554.377885       6.85   3625.4808          6.53    3576.1524   \n",
       "2000-07-12   553.241385       6.44   3613.4882          6.85    3625.4808   \n",
       "2000-07-19   554.903785       6.50   3619.9306          6.44    3613.4882   \n",
       "2000-07-26   554.138385       6.50   3639.3521          6.50    3619.9306   \n",
       "...                 ...        ...         ...           ...          ...   \n",
       "2024-03-13  1053.400000       5.33  17535.5968          5.33   17494.1022   \n",
       "2024-03-20  1054.565700       5.33  17568.9661          5.33   17535.5968   \n",
       "2024-03-27  1053.803300       5.33  17645.4336          5.33   17568.9661   \n",
       "2024-04-03  1054.370200       5.33  17580.9648          5.33   17645.4336   \n",
       "2024-04-10  1052.607700       5.33  17578.6082          5.33   17580.9648   \n",
       "\n",
       "            deposits_l1_log_ret  \n",
       "date                             \n",
       "2000-06-28             0.000000  \n",
       "2000-07-05             0.000000  \n",
       "2000-07-12             0.013699  \n",
       "2000-07-19            -0.003313  \n",
       "2000-07-26             0.001781  \n",
       "...                         ...  \n",
       "2024-03-13             0.002918  \n",
       "2024-03-20             0.002369  \n",
       "2024-03-27             0.001901  \n",
       "2024-04-03             0.004343  \n",
       "2024-04-10            -0.003660  \n",
       "\n",
       "[1242 rows x 6 columns]"
      ]
     },
     "execution_count": 53,
     "metadata": {},
     "output_type": "execute_result"
    }
   ],
   "source": [
    "arimax_df"
   ]
  },
  {
   "cell_type": "code",
   "execution_count": 54,
   "metadata": {},
   "outputs": [
    {
     "name": "stderr",
     "output_type": "stream",
     "text": [
      "100%|██████████| 7/7 [01:30<00:00, 12.95s/it]\n"
     ]
    }
   ],
   "source": [
    "p=q=range(7)\n",
    "arimax_models = np.empty((len(p), len(q)), dtype=object)\n",
    "arimax_results = np.empty((len(p), len(q)), dtype=object)\n",
    "for ar_lags in tqdm(p):\n",
    "    for ma_lags in q:\n",
    "        arimax = ARIMA(\n",
    "            arimax_df.loans,\n",
    "            order=(ar_lags, 1, ma_lags),\n",
    "            exog=arimax_df[['eff_funds_l1', 'deposits_l1_log_ret']],\n",
    "        )\n",
    "        arimax_models[ar_lags, ma_lags] = arimax\n",
    "        arimax_results[ar_lags, ma_lags] = arimax.fit()\n",
    "arimax_aics = np.array(list(map(lambda r: r.aic, arimax_results.flatten()))).reshape(\n",
    "    len(p), len(q)\n",
    ")\n",
    "arimax_aics = pd.DataFrame(arimax_aics, index=p, columns=q)"
   ]
  },
  {
   "cell_type": "code",
   "execution_count": 55,
   "metadata": {},
   "outputs": [
    {
     "name": "stderr",
     "output_type": "stream",
     "text": [
      "100%|██████████| 7/7 [00:55<00:00,  7.89s/it]\n"
     ]
    }
   ],
   "source": [
    "arima_models = np.empty((len(p), len(q)), dtype=object)\n",
    "arima_results = np.empty((len(p), len(q)), dtype=object)\n",
    "for ar_lags in tqdm(p):\n",
    "    for ma_lags in q:\n",
    "        arima = ARIMA(\n",
    "            arimax_df.loans,\n",
    "            order=(ar_lags, 1, ma_lags),\n",
    "        )\n",
    "        arima_models[ar_lags, ma_lags] = arima\n",
    "        arima_results[ar_lags, ma_lags] = arima.fit()\n",
    "arima_aics = np.array(list(map(lambda r: r.aic, arima_results.flatten()))).reshape(\n",
    "    len(p), len(q)\n",
    ")\n",
    "arima_aics = pd.DataFrame(arima_aics, index=p, columns=q)"
   ]
  },
  {
   "cell_type": "code",
   "execution_count": 56,
   "metadata": {},
   "outputs": [
    {
     "data": {
      "text/html": [
       "<div>\n",
       "<style scoped>\n",
       "    .dataframe tbody tr th:only-of-type {\n",
       "        vertical-align: middle;\n",
       "    }\n",
       "\n",
       "    .dataframe tbody tr th {\n",
       "        vertical-align: top;\n",
       "    }\n",
       "\n",
       "    .dataframe thead th {\n",
       "        text-align: right;\n",
       "    }\n",
       "</style>\n",
       "<table border=\"1\" class=\"dataframe\">\n",
       "  <thead>\n",
       "    <tr style=\"text-align: right;\">\n",
       "      <th></th>\n",
       "      <th>0</th>\n",
       "      <th>1</th>\n",
       "      <th>2</th>\n",
       "      <th>3</th>\n",
       "      <th>4</th>\n",
       "      <th>5</th>\n",
       "      <th>6</th>\n",
       "    </tr>\n",
       "  </thead>\n",
       "  <tbody>\n",
       "    <tr>\n",
       "      <th>0</th>\n",
       "      <td>5893.474225</td>\n",
       "      <td>5857.960885</td>\n",
       "      <td>5854.390152</td>\n",
       "      <td>5853.715282</td>\n",
       "      <td>5772.339611</td>\n",
       "      <td>5760.109527</td>\n",
       "      <td>5761.850614</td>\n",
       "    </tr>\n",
       "    <tr>\n",
       "      <th>1</th>\n",
       "      <td>5852.367088</td>\n",
       "      <td>5768.527580</td>\n",
       "      <td>5768.448444</td>\n",
       "      <td>5767.951067</td>\n",
       "      <td>5761.692919</td>\n",
       "      <td>5729.581966</td>\n",
       "      <td>5727.998905</td>\n",
       "    </tr>\n",
       "    <tr>\n",
       "      <th>2</th>\n",
       "      <td>5847.725236</td>\n",
       "      <td>5768.700824</td>\n",
       "      <td>5769.659671</td>\n",
       "      <td>5769.924526</td>\n",
       "      <td>5763.631942</td>\n",
       "      <td>5729.860836</td>\n",
       "      <td>5596.662352</td>\n",
       "    </tr>\n",
       "    <tr>\n",
       "      <th>3</th>\n",
       "      <td>5831.802553</td>\n",
       "      <td>5766.594730</td>\n",
       "      <td>5766.124471</td>\n",
       "      <td>5578.820335</td>\n",
       "      <td>5582.036632</td>\n",
       "      <td>5770.371716</td>\n",
       "      <td>5694.317553</td>\n",
       "    </tr>\n",
       "    <tr>\n",
       "      <th>4</th>\n",
       "      <td>5744.447336</td>\n",
       "      <td>5738.904189</td>\n",
       "      <td>5604.636117</td>\n",
       "      <td>5571.499136</td>\n",
       "      <td>5581.114160</td>\n",
       "      <td>5569.702597</td>\n",
       "      <td>5562.405042</td>\n",
       "    </tr>\n",
       "    <tr>\n",
       "      <th>5</th>\n",
       "      <td>5735.151882</td>\n",
       "      <td>5735.806085</td>\n",
       "      <td>5577.167194</td>\n",
       "      <td>5562.305978</td>\n",
       "      <td>5562.787607</td>\n",
       "      <td>5585.242101</td>\n",
       "      <td>5592.741368</td>\n",
       "    </tr>\n",
       "    <tr>\n",
       "      <th>6</th>\n",
       "      <td>5733.936916</td>\n",
       "      <td>5735.145290</td>\n",
       "      <td>5579.902140</td>\n",
       "      <td>5579.455394</td>\n",
       "      <td>5555.516799</td>\n",
       "      <td>5591.362521</td>\n",
       "      <td>5590.088880</td>\n",
       "    </tr>\n",
       "  </tbody>\n",
       "</table>\n",
       "</div>"
      ],
      "text/plain": [
       "             0            1            2            3            4  \\\n",
       "0  5893.474225  5857.960885  5854.390152  5853.715282  5772.339611   \n",
       "1  5852.367088  5768.527580  5768.448444  5767.951067  5761.692919   \n",
       "2  5847.725236  5768.700824  5769.659671  5769.924526  5763.631942   \n",
       "3  5831.802553  5766.594730  5766.124471  5578.820335  5582.036632   \n",
       "4  5744.447336  5738.904189  5604.636117  5571.499136  5581.114160   \n",
       "5  5735.151882  5735.806085  5577.167194  5562.305978  5562.787607   \n",
       "6  5733.936916  5735.145290  5579.902140  5579.455394  5555.516799   \n",
       "\n",
       "             5            6  \n",
       "0  5760.109527  5761.850614  \n",
       "1  5729.581966  5727.998905  \n",
       "2  5729.860836  5596.662352  \n",
       "3  5770.371716  5694.317553  \n",
       "4  5569.702597  5562.405042  \n",
       "5  5585.242101  5592.741368  \n",
       "6  5591.362521  5590.088880  "
      ]
     },
     "execution_count": 56,
     "metadata": {},
     "output_type": "execute_result"
    }
   ],
   "source": [
    "arima_aics"
   ]
  },
  {
   "cell_type": "code",
   "execution_count": 57,
   "metadata": {},
   "outputs": [
    {
     "data": {
      "text/html": [
       "<div>\n",
       "<style scoped>\n",
       "    .dataframe tbody tr th:only-of-type {\n",
       "        vertical-align: middle;\n",
       "    }\n",
       "\n",
       "    .dataframe tbody tr th {\n",
       "        vertical-align: top;\n",
       "    }\n",
       "\n",
       "    .dataframe thead th {\n",
       "        text-align: right;\n",
       "    }\n",
       "</style>\n",
       "<table border=\"1\" class=\"dataframe\">\n",
       "  <thead>\n",
       "    <tr style=\"text-align: right;\">\n",
       "      <th></th>\n",
       "      <th>0</th>\n",
       "      <th>1</th>\n",
       "      <th>2</th>\n",
       "      <th>3</th>\n",
       "      <th>4</th>\n",
       "      <th>5</th>\n",
       "      <th>6</th>\n",
       "    </tr>\n",
       "  </thead>\n",
       "  <tbody>\n",
       "    <tr>\n",
       "      <th>0</th>\n",
       "      <td>5880.769291</td>\n",
       "      <td>5843.588526</td>\n",
       "      <td>5840.658209</td>\n",
       "      <td>5841.210082</td>\n",
       "      <td>5762.263539</td>\n",
       "      <td>5746.363016</td>\n",
       "      <td>5747.916278</td>\n",
       "    </tr>\n",
       "    <tr>\n",
       "      <th>1</th>\n",
       "      <td>5838.230391</td>\n",
       "      <td>5758.072385</td>\n",
       "      <td>5756.959720</td>\n",
       "      <td>5755.992364</td>\n",
       "      <td>5749.394391</td>\n",
       "      <td>5719.249600</td>\n",
       "      <td>5715.484412</td>\n",
       "    </tr>\n",
       "    <tr>\n",
       "      <th>2</th>\n",
       "      <td>5835.165993</td>\n",
       "      <td>5757.382514</td>\n",
       "      <td>5757.967701</td>\n",
       "      <td>5757.920660</td>\n",
       "      <td>5751.374065</td>\n",
       "      <td>5718.711930</td>\n",
       "      <td>5592.782676</td>\n",
       "    </tr>\n",
       "    <tr>\n",
       "      <th>3</th>\n",
       "      <td>5820.714509</td>\n",
       "      <td>5754.242295</td>\n",
       "      <td>5753.390053</td>\n",
       "      <td>5560.694707</td>\n",
       "      <td>5562.441806</td>\n",
       "      <td>5553.461284</td>\n",
       "      <td>5535.360822</td>\n",
       "    </tr>\n",
       "    <tr>\n",
       "      <th>4</th>\n",
       "      <td>5731.653879</td>\n",
       "      <td>5724.820502</td>\n",
       "      <td>5584.799645</td>\n",
       "      <td>5554.650835</td>\n",
       "      <td>5563.607280</td>\n",
       "      <td>5551.502557</td>\n",
       "      <td>5544.442659</td>\n",
       "    </tr>\n",
       "    <tr>\n",
       "      <th>5</th>\n",
       "      <td>5719.649216</td>\n",
       "      <td>5719.377427</td>\n",
       "      <td>5561.200067</td>\n",
       "      <td>5550.735287</td>\n",
       "      <td>5545.278349</td>\n",
       "      <td>5567.758452</td>\n",
       "      <td>5570.297214</td>\n",
       "    </tr>\n",
       "    <tr>\n",
       "      <th>6</th>\n",
       "      <td>5716.515608</td>\n",
       "      <td>5717.726001</td>\n",
       "      <td>5558.935078</td>\n",
       "      <td>5558.648264</td>\n",
       "      <td>5536.007841</td>\n",
       "      <td>5574.421019</td>\n",
       "      <td>5567.884695</td>\n",
       "    </tr>\n",
       "  </tbody>\n",
       "</table>\n",
       "</div>"
      ],
      "text/plain": [
       "             0            1            2            3            4  \\\n",
       "0  5880.769291  5843.588526  5840.658209  5841.210082  5762.263539   \n",
       "1  5838.230391  5758.072385  5756.959720  5755.992364  5749.394391   \n",
       "2  5835.165993  5757.382514  5757.967701  5757.920660  5751.374065   \n",
       "3  5820.714509  5754.242295  5753.390053  5560.694707  5562.441806   \n",
       "4  5731.653879  5724.820502  5584.799645  5554.650835  5563.607280   \n",
       "5  5719.649216  5719.377427  5561.200067  5550.735287  5545.278349   \n",
       "6  5716.515608  5717.726001  5558.935078  5558.648264  5536.007841   \n",
       "\n",
       "             5            6  \n",
       "0  5746.363016  5747.916278  \n",
       "1  5719.249600  5715.484412  \n",
       "2  5718.711930  5592.782676  \n",
       "3  5553.461284  5535.360822  \n",
       "4  5551.502557  5544.442659  \n",
       "5  5567.758452  5570.297214  \n",
       "6  5574.421019  5567.884695  "
      ]
     },
     "execution_count": 57,
     "metadata": {},
     "output_type": "execute_result"
    }
   ],
   "source": [
    "arimax_aics"
   ]
  },
  {
   "cell_type": "code",
   "execution_count": 58,
   "metadata": {},
   "outputs": [
    {
     "data": {
      "text/plain": [
       "(6, 4)"
      ]
     },
     "execution_count": 58,
     "metadata": {},
     "output_type": "execute_result"
    }
   ],
   "source": [
    "arima_aics.stack().idxmin()"
   ]
  },
  {
   "cell_type": "code",
   "execution_count": 59,
   "metadata": {},
   "outputs": [
    {
     "data": {
      "text/plain": [
       "(3, 6)"
      ]
     },
     "execution_count": 59,
     "metadata": {},
     "output_type": "execute_result"
    }
   ],
   "source": [
    "arimax_aics.stack().idxmin()"
   ]
  },
  {
   "cell_type": "code",
   "execution_count": 78,
   "metadata": {},
   "outputs": [],
   "source": [
    "exog_forecast = np.zeros((52,2))"
   ]
  },
  {
   "cell_type": "code",
   "execution_count": 79,
   "metadata": {},
   "outputs": [],
   "source": [
    "exog_forecast[:,0] = np.linspace(5.33, 4, 52)"
   ]
  },
  {
   "cell_type": "code",
   "execution_count": 93,
   "metadata": {},
   "outputs": [
    {
     "data": {
      "image/png": "[encoded data removed]",
      "text/plain": [
       "<Figure size 640x480 with 1 Axes>"
      ]
     },
     "metadata": {},
     "output_type": "display_data"
    },
    {
     "data": {
      "text/plain": [
       "<AxesSubplot: >"
      ]
     },
     "execution_count": 93,
     "metadata": {},
     "output_type": "execute_result"
    },
    {
     "data": {
      "image/png": "[encoded data removed]",
      "text/plain": [
       "<Figure size 640x480 with 1 Axes>"
      ]
     },
     "metadata": {},
     "output_type": "display_data"
    }
   ],
   "source": [
    "import numpy as np\n",
    "loans[-104:].plot()\n",
    "fc = arimax_results[3,6].get_forecast(steps=52, exog=exog_forecast).summary_frame()\n",
    "fc['mean'].plot(linestyle='dashed')\n",
    "plt.fill_between(fc.index, fc.mean_ci_upper, fc.mean_ci_lower, color='pink', alpha=0.5, label='Confidence Interval')\n",
    "plt.legend()\n",
    "\n",
    "# Show the plot\n",
    "plt.show()\n",
    "\n",
    "fc['mean_ci_lower'].plot()\n",
    "fc['mean_ci_upper'].plot()"
   ]
  },
  {
   "cell_type": "code",
   "execution_count": 64,
   "metadata": {},
   "outputs": [
    {
     "ename": "NameError",
     "evalue": "name 'plot_acf' is not defined",
     "output_type": "error",
     "traceback": [
      "\u001b[1;31m---------------------------------------------------------------------------\u001b[0m",
      "\u001b[1;31mNameError\u001b[0m                                 Traceback (most recent call last)",
      "Cell \u001b[1;32mIn[64], line 1\u001b[0m\n\u001b[1;32m----> 1\u001b[0m \u001b[43mplot_acf\u001b[49m(arimax_df\u001b[38;5;241m.\u001b[39mdeposits_l1_log_ret[\u001b[38;5;241m-\u001b[39m\u001b[38;5;241m52\u001b[39m:])\n",
      "\u001b[1;31mNameError\u001b[0m: name 'plot_acf' is not defined"
     ]
    }
   ],
   "source": []
  }
 ],
 "metadata": {
  "kernelspec": {
   "display_name": "general_DS",
   "language": "python",
   "name": "python3"
  },
  "language_info": {
   "codemirror_mode": {
    "name": "ipython",
    "version": 3
   },
   "file_extension": ".py",
   "mimetype": "text/x-python",
   "name": "python",
   "nbconvert_exporter": "python",
   "pygments_lexer": "ipython3",
   "version": "3.10.13"
  }
 },
 "nbformat": 4,
 "nbformat_minor": 2
}
